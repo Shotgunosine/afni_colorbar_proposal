{
 "cells": [
  {
   "cell_type": "code",
   "execution_count": 1,
   "id": "b5bd2e1b-af38-4db7-9e5e-9de068dd5744",
   "metadata": {},
   "outputs": [],
   "source": [
    "from matplotlib import pyplot as plt\n",
    "import matplotlib as mpl\n",
    "from matplotlib import colormaps\n",
    "from matplotlib.colors import ListedColormap\n",
    "import numpy as np\n",
    "%matplotlib inline"
   ]
  },
  {
   "cell_type": "code",
   "execution_count": 2,
   "id": "69953980-d451-4101-a58b-d724a923c358",
   "metadata": {},
   "outputs": [],
   "source": [
    "def get_nearest_idx(val, arr):\n",
    "    return np.abs((arr - val)).argmin()"
   ]
  },
  {
   "cell_type": "code",
   "execution_count": 3,
   "id": "b5f5020a-176c-42ad-92fd-392e450ce0cd",
   "metadata": {},
   "outputs": [],
   "source": [
    "warm = colormaps.get_cmap('autumn')(np.linspace(0,1,128))[::-1]\n",
    "cool = colormaps.get_cmap('cool')(np.linspace(0,1,128))[::-1]\n",
    "cool[:, 0] = 0\n",
    "cmap = afni_rdbu = ListedColormap(np.vstack([cool, warm]))"
   ]
  },
  {
   "cell_type": "code",
   "execution_count": 22,
   "id": "0a048e6b-4e15-4861-a994-91eaf831643a",
   "metadata": {},
   "outputs": [],
   "source": [
    "def alpha_boxed_cbar(min, max, thr, nthr=None, cmap=None, twosided=False, path=None):\n",
    "    \"\"\"Generate a colorbar suitable for use with an afni alpha-boxed colormap.\n",
    "    The generated colorbar will depict the transparency and portion of the\n",
    "    colormap that is outlined.\n",
    "\n",
    "    Parameters\n",
    "    ==========\n",
    "    min : float\n",
    "        Minimum value to depict on the colorbar. Should be less than max.\n",
    "    max : float\n",
    "        Maximum value to depict on the colorbar\n",
    "    thr : float\n",
    "        Threshold for outlining values and 0 transparency. If twosided,\n",
    "        this is the positive threshold. Must be between min and max.\n",
    "    nthr : float\n",
    "        Negative threshold for twosided colorbar. If not twosided, then\n",
    "        this has no effect. If twosided and not defined, defaults to \n",
    "        -thr. Must be between min and max and less than thr.\n",
    "    cmap : str | matplotlib.colors.ListedColormap\n",
    "        Colormap to use\n",
    "    twosided : bool\n",
    "        If true, create a twosided color bar.\n",
    "    path : str\n",
    "        Path to write png to. If none, then no files written.\n",
    "\n",
    "    Returns\n",
    "    =======\n",
    "    path : str  | None\n",
    "        path colorbar was written to.\n",
    "    \n",
    "    \"\"\"\n",
    "    if min >= max:\n",
    "        raise ValueError(\"min should be less than max\")\n",
    "    if thr <= min or thr >= max:\n",
    "        raise ValueError(\"thr should be between min and max\")\n",
    "    if cmap is None:\n",
    "        cmap = \"plasma\"\n",
    "    if twosided and (nthr is None):\n",
    "        nthr = -thr\n",
    "    if nthr is not None:\n",
    "        if (nthr <= min) or (nthr >= max):\n",
    "            raise ValueError(\"nthr should be between min and max\")\n",
    "        if nthr >= thr:\n",
    "            raise ValueError(\"nthr should be less than thr\")\n",
    "    if not isinstance(cmap, ListedColormap):\n",
    "        cmap = mpl.colormaps[cmap]\n",
    "    nrows = 1\n",
    "    figh = 0.35 + 0.15 + (nrows + (nrows - 1) * 0.1) * 0.22\n",
    "    figh = figh / 2\n",
    "    \n",
    "    ncolors = len(cmap.colors)\n",
    "    gradient = np.linspace(min,max, ncolors)\n",
    "    alpha = np.ones(gradient.shape)\n",
    "    idxs = np.arange(len(gradient))\n",
    "    if twosided:\n",
    "        # in the two sided case need to know midpoint\n",
    "        # that's where we'll have alpha at 0\n",
    "        zval = ((thr - nthr) / 2) + nthr\n",
    "        z_idx = get_nearest_idx(zval, gradient)\n",
    "        nthr_idx = get_nearest_idx(nthr, gradient)\n",
    "        thr_idx = get_nearest_idx(thr, gradient)\n",
    "        nramp = idxs[(idxs > nthr_idx) & (idxs <= z_idx)]\n",
    "        alpha[(idxs > nthr_idx) & (idxs <= z_idx)] = (((nramp - nramp.min())/(nramp.max() - nramp.min()))**2)[::-1]\n",
    "        \n",
    "        ramp = idxs[(idxs >= z_idx) & (idxs < thr_idx)]\n",
    "        alpha[(idxs >= z_idx) & (idxs < thr_idx)] = (((ramp - ramp.min())/(ramp.max() - ramp.min()))**2)\n",
    "    \n",
    "    else:\n",
    "        z_idx =  get_nearest_idx(min, gradient)\n",
    "        thr_idx = get_nearest_idx(thr, gradient)\n",
    "        ramp = idxs[(idxs >= z_idx) & (idxs < thr_idx)]\n",
    "        alpha[(idxs >= z_idx) & (idxs < thr_idx)] = (((ramp - ramp.min())/(ramp.max() - ramp.min()))**2)\n",
    "    \n",
    "    alpha = np.vstack([alpha, alpha])\n",
    "    \n",
    "    nboxes = 2 * 6.4 / figh\n",
    "    boxes = []\n",
    "    while len(boxes) < ncolors:\n",
    "        boxes.extend(([0] * int(ncolors/ nboxes) + [1] * int(ncolors/ nboxes)))\n",
    "    lboxes = np.abs(np.array(boxes) - 1)\n",
    "    boxes = np.vstack([boxes, lboxes])[:, :ncolors]\n",
    "    \n",
    "    # make the gradient 2 high so the imshow works\n",
    "    # but do it after everything that depends on it being 1 row has been done\n",
    "    gradient = np.vstack((gradient, gradient))\n",
    "    \n",
    "    fig, ax = plt.subplots(nrows=nrows, figsize=(6.4, figh))\n",
    "    # plot boxes first so there's a checkerboard behind the colors\n",
    "    ax.imshow(boxes, aspect='auto', cmap='Greys', interpolation='nearest')\n",
    "    ax.imshow(gradient, aspect='auto', cmap=cmap)\n",
    "    cmapimg = ax.get_images()[1]\n",
    "    # set alpha to match the quadratic decat\n",
    "    cmapimg.set_alpha(alpha)\n",
    "    _ = ax.set_yticks([])\n",
    "    _ = ax.set_xticklabels([])\n",
    "    \n",
    "    ymin, ymax = ax.get_ylim()\n",
    "    xmin, xmax = ax.get_xlim()\n",
    "    # draw lines to indicte which part of the colorbar is outline on the figure\n",
    "    if twosided:\n",
    "        ax.vlines([nthr_idx, thr_idx], ymax, ymin, lw=2, color='black')\n",
    "        ax.vlines([xmax, xmin], ymax, ymin, lw=5, color='black')\n",
    "        ax.hlines([ymin, ymax], thr_idx, xmax, lw=5, color='black')\n",
    "        ax.hlines([ymin, ymax], nthr_idx, xmin, lw=5, color='black')\n",
    "    else:\n",
    "        ax.vlines([thr_idx], ymax, ymin, lw=2, color='black')\n",
    "        ax.vlines([xmax], ymax, ymin, lw=5, color='black')\n",
    "        ax.hlines([ymin, ymax], thr_idx, xmax, lw=5, color='black')\n",
    "    if path is not None:\n",
    "        fig.savefig(path)\n",
    "    return path"
   ]
  },
  {
   "cell_type": "code",
   "execution_count": 23,
   "id": "f3c2a8a8-bc18-43af-8b6a-b1c35299bbe0",
   "metadata": {},
   "outputs": [
    {
     "data": {
      "image/png": "[encoded data removed]",
      "text/plain": [
       "<Figure size 640x36 with 1 Axes>"
      ]
     },
     "metadata": {},
     "output_type": "display_data"
    }
   ],
   "source": [
    "min = -10.876173\n",
    "max = 10.876173\n",
    "thr = 3.3143\n",
    "twosided = True\n",
    "alpha_boxed_cbar(min, max, thr, cmap=afni_rdbu, twosided=twosided)"
   ]
  },
  {
   "cell_type": "code",
   "execution_count": 24,
   "id": "27654497-6619-4be2-815a-212b5fcabeb0",
   "metadata": {},
   "outputs": [
    {
     "data": {
      "image/png": "[encoded data removed]",
      "text/plain": [
       "<Figure size 640x36 with 1 Axes>"
      ]
     },
     "metadata": {},
     "output_type": "display_data"
    }
   ],
   "source": [
    "min = -10.876173\n",
    "max = 10.876173\n",
    "thr = 3.3143\n",
    "nthr = -6\n",
    "twosided = True\n",
    "alpha_boxed_cbar(min, max, thr, nthr, cmap=afni_rdbu, twosided=twosided)"
   ]
  },
  {
   "cell_type": "code",
   "execution_count": 25,
   "id": "ec965400-efa0-443a-ae72-a3bc0af66073",
   "metadata": {},
   "outputs": [
    {
     "data": {
      "image/png": "[encoded data removed]",
      "text/plain": [
       "<Figure size 640x36 with 1 Axes>"
      ]
     },
     "metadata": {},
     "output_type": "display_data"
    }
   ],
   "source": [
    "min = -10.876173\n",
    "max = 10.876173\n",
    "thr = 3.3143\n",
    "twosided = False\n",
    "alpha_boxed_cbar(min, max, thr, cmap=afni_rdbu, twosided=twosided)"
   ]
  },
  {
   "cell_type": "code",
   "execution_count": 27,
   "id": "b95a0672-9ce1-43d8-9996-e2ed2c2a52b9",
   "metadata": {},
   "outputs": [
    {
     "data": {
      "image/png": "[encoded data removed]",
      "text/plain": [
       "<Figure size 640x36 with 1 Axes>"
      ]
     },
     "metadata": {},
     "output_type": "display_data"
    }
   ],
   "source": [
    "min = 0\n",
    "max = 251.146927\n",
    "thr = 23.666248\n",
    "cmap = 'plasma'\n",
    "alpha_boxed_cbar(min, max, thr, cmap=cmap, twosided=twosided)"
   ]
  },
  {
   "cell_type": "code",
   "execution_count": null,
   "id": "3662cbfa-6f44-420d-9bdb-53d5d8ea1565",
   "metadata": {},
   "outputs": [],
   "source": []
  }
 ],
 "metadata": {
  "kernelspec": {
   "display_name": "Python 3 (ipykernel)",
   "language": "python",
   "name": "python3"
  },
  "language_info": {
   "codemirror_mode": {
    "name": "ipython",
    "version": 3
   },
   "file_extension": ".py",
   "mimetype": "text/x-python",
   "name": "python",
   "nbconvert_exporter": "python",
   "pygments_lexer": "ipython3",
   "version": "3.12.1"
  }
 },
 "nbformat": 4,
 "nbformat_minor": 5
}
